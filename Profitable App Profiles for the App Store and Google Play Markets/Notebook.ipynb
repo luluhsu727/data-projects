{
 "cells": [
  {
   "cell_type": "markdown",
   "metadata": {},
   "source": [
    "# Profitable App Profiles for the App Store and Google Play Markets\n",
    "\n",
    "## Introduction\n",
    "* A company builds Android and iOS mobile apps that are available on Google Play and in the App Store. All apps built are **free** to download and install for English-speaking audience. The main source of revenue of A company consists of **in-app ads**. This means the more users who see and engage with the ads, the better.\n",
    "\n",
    "* The aim of the project is to analyse data to help the developers understand what type of apps are likely to attract more users.\n",
    "\n",
    "## Data source and description\n",
    "* Two datasets are used in this project. One from GooglePlay whilst the other from AppleStore. \n",
    "* Link to download the GooglePlay data here: [Link](https://www.kaggle.com/datasets/lava18/google-play-store-apps). You can also find data documentation to help you understand waht each column describes \n",
    "* Link to download the AppleStore data here:[Link](https://www.kaggle.com/datasets/ramamet4/app-store-apple-data-set-10k-apps). You can also find data documentation to help you understand waht each column describes\n",
    "\n",
    "## Data details \n",
    "**googleplaystore.csv**\n",
    "\n",
    "|Column|Description|\n",
    "|------|-----------|\n",
    "|App|Application name|\n",
    "|Category|Category the app belongs to|\n",
    "|Rating|Overall user rating of the app (as when scraped)|\n",
    "|Reviews|Number of user reviews for the app (as when scraped)|\n",
    "|Size|Size of the app (as when scraped)|\n",
    "|Installs|Number of user downloads/installs for the app (as when scraped)|\n",
    "|Type|Paid or Free|\n",
    "|Price|Price of the app (as when scraped)|\n",
    "|Content Rating|Age group the app is targeted at - Children / Mature 21+ / Adult|\n",
    "|Genres|An app can belong to multiple genres (apart from its main category). For eg, a musical family game will belong to Music, Game, Famil|\n",
    "|Last Updated|Date when the app was last updated on Play Store (as when scraped)|\n",
    "|Current Ver|Current version of the app available on Play Store (as when scraped)|\n",
    "|Android Ver|Min required Android version (as when scraped)|\n",
    "\n",
    "**Mobile App Store**\n",
    "\n",
    "|Column|Description|\n",
    "|------|-----------|\n",
    "|id|App ID|\n",
    "|track_name|App Name|\n",
    "|size_bytes|Size (in Bytes)|\n",
    "|currency|Currency Type|\n",
    "|price|Price amount|\n",
    "|rating_count_tot|User Rating counts (for all version)|\n",
    "|rating_count_ver|User Rating counts (for current version)|\n",
    "|user_rating|Average User Rating value (for all version)|\n",
    "|user_rating_ver|Average User Rating value (for current version)|\n",
    "|ver|Latest version code|\n",
    "|cont_rating|Content Rating|\n",
    "|prime_genre|Primary Genre|\n",
    "|sup_devices.num|Number of supporting devices|\n",
    "|ipadSc_urls.num|Number of screenshots showed for display|\n",
    "|lang.num|Number of supported languages|\n",
    "|vpp_lic|Vpp Device Based Licensing Enabled|"
   ]
  },
  {
   "cell_type": "code",
   "execution_count": 1,
   "metadata": {},
   "outputs": [],
   "source": [
    "#open the two datasets and save both as lists of lists\n",
    "\n",
    "open_file_apple = open('AppleStore.csv')\n",
    "from csv import reader\n",
    "apple_read = reader(open_file_apple)\n",
    "apple_file = list(apple_read)\n",
    "apple_dataset = apple_file[1:]\n",
    "open_file_google = open('googleplaystore.csv')\n",
    "google_read = reader(open_file_google)\n",
    "google_file = list(google_read)\n",
    "google_dataset = google_file[1:]"
   ]
  },
  {
   "cell_type": "markdown",
   "metadata": {},
   "source": [
    "## Explore the two datasets by printing the first few rows and confirm the number of rows and columns excluding the header row"
   ]
  },
  {
   "cell_type": "code",
   "execution_count": 2,
   "metadata": {},
   "outputs": [],
   "source": [
    "#explort both datasets by printing the data out using explore_data() function\n",
    "def explore_data(dataset, start, end, rows_and_columns=False):\n",
    "    dataset_slice = dataset[start:end]\n",
    "    for row in dataset_slice:\n",
    "        print(row)\n",
    "        print('\\n')\n",
    "    if rows_and_columns:\n",
    "        print('Number of rows:', len(dataset))\n",
    "        print('Number of columns:', len(dataset[0]))"
   ]
  },
  {
   "cell_type": "code",
   "execution_count": 3,
   "metadata": {},
   "outputs": [
    {
     "name": "stdout",
     "output_type": "stream",
     "text": [
      "['284882215', 'Facebook', '389879808', 'USD', '0.0', '2974676', '212', '3.5', '3.5', '95.0', '4+', 'Social Networking', '37', '1', '29', '1']\n",
      "\n",
      "\n",
      "['389801252', 'Instagram', '113954816', 'USD', '0.0', '2161558', '1289', '4.5', '4.0', '10.23', '12+', 'Photo & Video', '37', '0', '29', '1']\n",
      "\n",
      "\n",
      "['529479190', 'Clash of Clans', '116476928', 'USD', '0.0', '2130805', '579', '4.5', '4.5', '9.24.12', '9+', 'Games', '38', '5', '18', '1']\n",
      "\n",
      "\n",
      "['420009108', 'Temple Run', '65921024', 'USD', '0.0', '1724546', '3842', '4.5', '4.0', '1.6.2', '9+', 'Games', '40', '5', '1', '1']\n",
      "\n",
      "\n",
      "['284035177', 'Pandora - Music & Radio', '130242560', 'USD', '0.0', '1126879', '3594', '4.0', '4.5', '8.4.1', '12+', 'Music', '37', '4', '1', '1']\n",
      "\n",
      "\n",
      "Number of rows: 7197\n",
      "Number of columns: 16\n",
      "['Photo Editor & Candy Camera & Grid & ScrapBook', 'ART_AND_DESIGN', '4.1', '159', '19M', '10,000+', 'Free', '0', 'Everyone', 'Art & Design', 'January 7, 2018', '1.0.0', '4.0.3 and up']\n",
      "\n",
      "\n",
      "['Coloring book moana', 'ART_AND_DESIGN', '3.9', '967', '14M', '500,000+', 'Free', '0', 'Everyone', 'Art & Design;Pretend Play', 'January 15, 2018', '2.0.0', '4.0.3 and up']\n",
      "\n",
      "\n",
      "['U Launcher Lite – FREE Live Cool Themes, Hide Apps', 'ART_AND_DESIGN', '4.7', '87510', '8.7M', '5,000,000+', 'Free', '0', 'Everyone', 'Art & Design', 'August 1, 2018', '1.2.4', '4.0.3 and up']\n",
      "\n",
      "\n",
      "['Sketch - Draw & Paint', 'ART_AND_DESIGN', '4.5', '215644', '25M', '50,000,000+', 'Free', '0', 'Teen', 'Art & Design', 'June 8, 2018', 'Varies with device', '4.2 and up']\n",
      "\n",
      "\n",
      "['Pixel Draw - Number Art Coloring Book', 'ART_AND_DESIGN', '4.3', '967', '2.8M', '100,000+', 'Free', '0', 'Everyone', 'Art & Design;Creativity', 'June 20, 2018', '1.1', '4.4 and up']\n",
      "\n",
      "\n",
      "Number of rows: 10841\n",
      "Number of columns: 13\n"
     ]
    }
   ],
   "source": [
    "explore_data(apple_dataset, 0, 5, rows_and_columns=True)\n",
    "explore_data(google_dataset, 0, 5, rows_and_columns=True)"
   ]
  },
  {
   "cell_type": "code",
   "execution_count": 4,
   "metadata": {
    "scrolled": true
   },
   "outputs": [
    {
     "name": "stdout",
     "output_type": "stream",
     "text": [
      "['id', 'track_name', 'size_bytes', 'currency', 'price', 'rating_count_tot', 'rating_count_ver', 'user_rating', 'user_rating_ver', 'ver', 'cont_rating', 'prime_genre', 'sup_devices.num', 'ipadSc_urls.num', 'lang.num', 'vpp_lic']\n",
      "['App', 'Category', 'Rating', 'Reviews', 'Size', 'Installs', 'Type', 'Price', 'Content Rating', 'Genres', 'Last Updated', 'Current Ver', 'Android Ver']\n"
     ]
    }
   ],
   "source": [
    "#print the column names of each dataset\n",
    "print(apple_file[0])\n",
    "print(google_file[0])"
   ]
  },
  {
   "cell_type": "markdown",
   "metadata": {},
   "source": [
    "# Data cleaning\n",
    "## Part 1 - Detecting errors\n",
    "\n",
    "1. By reading the 'discussion' in the source data in the link, we understand there is an error in the Googleplay dataset which we need to remove before analysing.\n",
    "\n",
    "2. The inspection shows that this error was contributed to having a missing value in 'category'.\n",
    "\n",
    "3. We removed this row by using the `del` command."
   ]
  },
  {
   "cell_type": "code",
   "execution_count": 5,
   "metadata": {},
   "outputs": [
    {
     "name": "stdout",
     "output_type": "stream",
     "text": [
      "['Life Made WI-Fi Touchscreen Photo Frame', '1.9', '19', '3.0M', '1,000+', 'Free', '0', 'Everyone', '', 'February 11, 2018', '1.0.19', '4.0 and up']\n"
     ]
    },
    {
     "data": {
      "text/plain": [
       "12"
      ]
     },
     "execution_count": 5,
     "metadata": {},
     "output_type": "execute_result"
    }
   ],
   "source": [
    "#detected an error for one row of Googleplay dataset\n",
    "print(google_dataset[10472])\n",
    "len(google_dataset[10472])\n",
    "# missing one column 'catogery' and hence column shift has happened in this row."
   ]
  },
  {
   "cell_type": "code",
   "execution_count": 6,
   "metadata": {},
   "outputs": [],
   "source": [
    "#removed the error row detected\n",
    "del google_dataset[10472]"
   ]
  },
  {
   "cell_type": "markdown",
   "metadata": {},
   "source": [
    "## Part 2 - Detecting number of duplicated entries in the Googleplay dataset"
   ]
  },
  {
   "cell_type": "code",
   "execution_count": 7,
   "metadata": {},
   "outputs": [
    {
     "name": "stdout",
     "output_type": "stream",
     "text": [
      "Number of duplicate apps: 1181\n",
      "\n",
      "\n",
      "Examples of duplicate apps' name: ['Quick PDF Scanner + OCR FREE', 'Box', 'Google My Business', 'ZOOM Cloud Meetings', 'join.me - Simple Meetings']\n"
     ]
    }
   ],
   "source": [
    "# detected duplicated rows in Googleplay dataset as shown below\n",
    "duplicates= []\n",
    "unique = []\n",
    "\n",
    "for row in google_dataset:\n",
    "    if row[0] in unique: #using the app name, row[0]\n",
    "        duplicates.append(row[0])\n",
    "    else:\n",
    "        unique.append(row[0])\n",
    "print(f'Number of duplicate apps: {len(duplicates)}')\n",
    "print('\\n')\n",
    "print(f\"Examples of duplicate apps' name: {duplicates[:5]}\")"
   ]
  },
  {
   "cell_type": "markdown",
   "metadata": {},
   "source": [
    "## Part 3 - Identifying the reason for the duplicates\n",
    "\n",
    "1. By inspecting the duplicated entries, we understand the biggest reason for the duplicates was due to the 'number of reviews' being recorded at different days.\n",
    "2. We will save only the row with the 'highest reviews' as we trust row as such would be most updated."
   ]
  },
  {
   "cell_type": "code",
   "execution_count": 8,
   "metadata": {},
   "outputs": [
    {
     "name": "stdout",
     "output_type": "stream",
     "text": [
      "['Quick PDF Scanner + OCR FREE', 'BUSINESS', '4.2', '80805', 'Varies with device', '5,000,000+', 'Free', '0', 'Everyone', 'Business', 'February 26, 2018', 'Varies with device', '4.0.3 and up']\n",
      "['Quick PDF Scanner + OCR FREE', 'BUSINESS', '4.2', '80805', 'Varies with device', '5,000,000+', 'Free', '0', 'Everyone', 'Business', 'February 26, 2018', 'Varies with device', '4.0.3 and up']\n",
      "['Quick PDF Scanner + OCR FREE', 'BUSINESS', '4.2', '80804', 'Varies with device', '5,000,000+', 'Free', '0', 'Everyone', 'Business', 'February 26, 2018', 'Varies with device', '4.0.3 and up']\n"
     ]
    }
   ],
   "source": [
    "# now a significant number of duplicated apps is detected, we will remove the duplicates using a criteria\n",
    "# first see why so many duplicates for the same app in the first place by printing the duplicated app rows out\n",
    "\n",
    "for row in google_dataset:\n",
    "    if row[0] == 'Quick PDF Scanner + OCR FREE':\n",
    "        print(row)\n",
    "        \n",
    "# We can tell from the result that the reasons for duplicates is because different number of reviews were recorded. \n",
    "# The different numbers show the data was collected at different times."
   ]
  },
  {
   "cell_type": "code",
   "execution_count": 9,
   "metadata": {},
   "outputs": [
    {
     "name": "stdout",
     "output_type": "stream",
     "text": [
      "Expected length for Googleplay dataset: 9659\n"
     ]
    }
   ],
   "source": [
    "# We will only be saving the app with the higherst number of reviews and removed the rest of its duplicates.\n",
    "# Expected number of rows to work on for Googleplay dataset \n",
    "\n",
    "print(f'Expected length for Googleplay dataset: {len(google_dataset) - 1181}') # the number of duplicates found in Googleplay dataset in the previous step"
   ]
  },
  {
   "cell_type": "markdown",
   "metadata": {},
   "source": [
    "## Part 4 - Removing duplicated entries in Googleplay dataset\n",
    "\n",
    "* We will be keeping the app with the **highest number of reviews** only and remove the rest. \n",
    "* To do so, we first create a dictionary `reviews_max` that stores the name of the app and its highest reviews identified. "
   ]
  },
  {
   "cell_type": "code",
   "execution_count": 10,
   "metadata": {},
   "outputs": [
    {
     "name": "stdout",
     "output_type": "stream",
     "text": [
      "9659\n"
     ]
    }
   ],
   "source": [
    "# Removing the duplicates in the Googleplay dataset using the criteria stated above\n",
    "\n",
    "reviews_max = {}\n",
    "for row in google_dataset:\n",
    "    name = row[0]\n",
    "    n_reviews = float(row[3])\n",
    "    if name in reviews_max and reviews_max[name] < n_reviews:\n",
    "        reviews_max[name] = n_reviews\n",
    "    if name not in reviews_max: # ensurd 'else' clause if not used, otherwise the wrong no. of reviews will be updated should 'reviews_max[name] < n_reviews' evalues to False\n",
    "        reviews_max[name] = n_reviews\n",
    "\n",
    "print(len(reviews_max)) # inspecting if the number of rows matched the above    \n"
   ]
  },
  {
   "cell_type": "markdown",
   "metadata": {},
   "source": [
    "## Part 5 - Get cleaned data using two conditions \n",
    "\n",
    "* store the row when the number of review matches with that stored in `reviews_max`.\n",
    "* We also need to ensure the same app has not been saved before. This is important in case an app has the same highest number of reviews 'twice' or more. "
   ]
  },
  {
   "cell_type": "code",
   "execution_count": 11,
   "metadata": {},
   "outputs": [
    {
     "name": "stdout",
     "output_type": "stream",
     "text": [
      "9659\n"
     ]
    }
   ],
   "source": [
    "android_clean = [] # storing new cleaned data set\n",
    "already_added = [] # only store app names \n",
    "\n",
    "for row in google_dataset:\n",
    "    name = row[0]\n",
    "    n_reviews = float(row[3])\n",
    "    if n_reviews == reviews_max[name] and name not in already_added:\n",
    "        android_clean.append(row)\n",
    "        already_added.append(name)\n",
    "\n",
    "# explore if android_clean dataset went as expected \n",
    "\n",
    "print(len(android_clean)) # expected number of rows to be 9659"
   ]
  },
  {
   "cell_type": "markdown",
   "metadata": {},
   "source": [
    "## Part 6 - Confirming any duplicates in AppStore dataset\n",
    "\n",
    "* We will be using the `id` column to confirm whether there is any duplicates in this dataset.\n",
    "* The result showed that there is no duplicates in the AppStore dataset.\n",
    "* The source where we got the data did not suggest any errors in the dataset, and we will go along with that conclusion."
   ]
  },
  {
   "cell_type": "code",
   "execution_count": 12,
   "metadata": {},
   "outputs": [
    {
     "name": "stdout",
     "output_type": "stream",
     "text": [
      "0\n"
     ]
    }
   ],
   "source": [
    "unique_id = []\n",
    "duplicate_id = []\n",
    "\n",
    "for row in apple_dataset:\n",
    "    if float(row[0]) in unique_id:\n",
    "        duplicate_id.append(float(row[0]))\n",
    "    else:\n",
    "        unique_id.append(float(row[0]))\n",
    "\n",
    "print(len(duplicate_id)) # to confirm if there is any duplicate entries or not in the AppStore dataset\n",
    "        "
   ]
  },
  {
   "cell_type": "markdown",
   "metadata": {},
   "source": [
    "## Part 7 - Removing Non-English Apps: Part 1 \n",
    "\n",
    "1. We use **English** for the apps we develop at A company, so we'd like to analyse only the apps that are designed for an **English-speaking audience**. 2. We realised that both datasets have apps with names that suggest they are not designed for an English-speaking audience.\n",
    "3. We will aim to remove those before analysis.\n",
    "4. To remove them, we need to first identify them by checking if the characters used in the app name fall within the range of **0 to 127**, a range in which the characters in an English text is commonly used according to the [ASCII](https://en.wikipedia.org/wiki/ASCII) (American Standard Code for Information Interchange) systemusing the built-in `ord()` function. \n",
    "5. Based upon the above, we will build a function that detects whether a character belongs to this range or not.\n",
    " * If the number is equal to or less than 127, then the character belongs to the set of common English characters; \n",
    " * If an app name contains a character that is greater than 127, then it probably means that the app has a non-English name. "
   ]
  },
  {
   "cell_type": "code",
   "execution_count": 13,
   "metadata": {},
   "outputs": [
    {
     "name": "stdout",
     "output_type": "stream",
     "text": [
      "True\n",
      "False\n",
      "False\n",
      "False\n"
     ]
    }
   ],
   "source": [
    "# First, we write a function that takes in a string and returns False if there's any character in the string that doesn't belong to the set of common English characters; otherwise, the function returns True.\n",
    "\n",
    "def englishapp_test(string):   \n",
    "    for character in string:\n",
    "        if ord(character) > 127: # using built-in function ord() to find the corresponding number of the character\n",
    "            return False\n",
    "    return True\n",
    "    \n",
    "# Check if the function works properly on the following app names:\n",
    "\n",
    "print(englishapp_test('Instagram')) # expected True \n",
    "print(englishapp_test('爱奇艺PPS -《欢乐颂2》电视剧热播')) # expected False\n",
    "print(englishapp_test('Docs To Go™ Free Office Suite')) # expected False because of ™\n",
    "print(englishapp_test('Instachat 😜')) # expected False because of 😜"
   ]
  },
  {
   "cell_type": "markdown",
   "metadata": {},
   "source": [
    "In the previous step we realised `englishapp_test(string)` couldn't successfully identify English app. To improve it, we will include a filter that only returns False if up to **3** characters fall outside the range (meaning we effectively allow special characters like emojis for up to 3 times). This is not perfect, but it should be effective enough."
   ]
  },
  {
   "cell_type": "code",
   "execution_count": 14,
   "metadata": {},
   "outputs": [
    {
     "name": "stdout",
     "output_type": "stream",
     "text": [
      "True\n",
      "True\n",
      "False\n"
     ]
    }
   ],
   "source": [
    "# Improve the function so that it only returns False to allow special characters like emojis up to 3 times.\n",
    "def englishapp_improved(string):   \n",
    "    count = 0 # initiate a counter to count the times up to 3 \n",
    "    for character in string:\n",
    "        if ord(character) > 127: \n",
    "            count += 1\n",
    "    if count > 3:\n",
    "        return False\n",
    "    return True\n",
    "\n",
    "# test if the improved function works properly \n",
    "\n",
    "print(englishapp_improved('Docs To Go™ Free Office Suite')) # expect True\n",
    "print(englishapp_improved('Instachat 😜')) # expect True \n",
    "print(englishapp_improved('爱奇艺PPS -《欢乐颂2》电视剧热播')) # expect False"
   ]
  },
  {
   "cell_type": "markdown",
   "metadata": {},
   "source": [
    "* Now we are going to the improved function `englishapp_improved(string)` to filter out non-English apps from both datasets. \n",
    "* We will loop through each dataset (`android_clean` (the one where we removed the duplicates) and `apple_dataset`) If an app name is identified as English, append the whole row to a separate list."
   ]
  },
  {
   "cell_type": "code",
   "execution_count": 15,
   "metadata": {},
   "outputs": [
    {
     "name": "stdout",
     "output_type": "stream",
     "text": [
      "The number of English apps remaining from Googleplay: 9614\n",
      "The number of English apps remaining from Appestore: 6183\n"
     ]
    }
   ],
   "source": [
    "# Append the English apps from Googleplay to Apps_Eng\n",
    "\n",
    "Google_eng = []\n",
    "for row in android_clean:\n",
    "    name = row[0]\n",
    "    if englishapp_improved(name):\n",
    "        Google_eng.append(row)\n",
    "\n",
    "# Append the English apps from Appstore to Apps_Eng\n",
    "Apple_eng = []\n",
    "for row in apple_dataset:\n",
    "    name = row[1]\n",
    "    if englishapp_improved(name):\n",
    "        Apple_eng.append(row)\n",
    "\n",
    "# check how many rows we end up having \n",
    "print(f'The number of English apps remaining from Googleplay: {len(Google_eng)}')\n",
    "print(f'The number of English apps remaining from Appestore: {len(Apple_eng)}')"
   ]
  },
  {
   "cell_type": "markdown",
   "metadata": {},
   "source": [
    "## Part 8 - Isolating the Free Apps\n",
    "\n",
    "So far in the data cleaning process, we've done the following:\n",
    "\n",
    "* Removed inaccurate data\n",
    "* Removed duplicate app entries\n",
    "* Removed non-English apps\n",
    "\n",
    "As we mentioned earlier, A company only builds apps that are **free** to download and install, and the main source of revenue consists of in-app ads. As the datasets contain both free and non-free apps, we should isolate only the **free** apps for our analysis.\n",
    "\n",
    "Once the above is done, the datasets should be ready for analysis."
   ]
  },
  {
   "cell_type": "code",
   "execution_count": 16,
   "metadata": {},
   "outputs": [
    {
     "name": "stdout",
     "output_type": "stream",
     "text": [
      "0\n",
      "<class 'str'>\n",
      "0.0\n",
      "<class 'str'>\n"
     ]
    }
   ],
   "source": [
    "# First, inspect the data type of the price of each dataset\n",
    "# There is actually a column called 'Type' in the Googleplay set indicating whether an app is 'Free' or 'Paid'\n",
    "# For consistency, we will use both the 'price' column to identify free apps\n",
    "\n",
    "print(Google_eng[0][7])\n",
    "print(type(Google_eng[0][7]))\n",
    "\n",
    "print(Apple_eng[0][4])\n",
    "print(type(Apple_eng[0][4]))"
   ]
  },
  {
   "cell_type": "code",
   "execution_count": 17,
   "metadata": {},
   "outputs": [
    {
     "name": "stdout",
     "output_type": "stream",
     "text": [
      "The number of English apps remaining from Googleplay: 8864\n",
      "The number of English apps remaining from Appestore: 3222\n"
     ]
    }
   ],
   "source": [
    "# The above confirmed the value in the price columns for both datasets is a string\n",
    "\n",
    "Google_free = []\n",
    "for row in Google_eng:\n",
    "    if row[7] == '0':\n",
    "        Google_free.append(row)\n",
    "        \n",
    "Apple_free = []\n",
    "for row in Apple_eng:\n",
    "    if row[4] == '0.0':\n",
    "        Apple_free.append(row)\n",
    "\n",
    "# Check the remaining rows left in each dataset\n",
    "print(f'The number of English apps remaining from Googleplay: {len(Google_free)}')\n",
    "print(f'The number of English apps remaining from Appestore: {len(Apple_free)}')"
   ]
  },
  {
   "cell_type": "markdown",
   "metadata": {},
   "source": [
    "# Data Analysis \n",
    "\n",
    "So far, we have: \n",
    "\n",
    "* Removing inaccurate data\n",
    "* Removing duplicate app entries\n",
    "* Removing non-English apps\n",
    "* Isolating the free apps\n",
    "\n",
    "Our goal is to determine the kinds of apps that are **likely to attract more users** because the number of people using our apps directly affect A company's revenue.\n",
    "\n",
    "To minimise risks and overhead, our **validation strategy for an app idea** has the following three steps:\n",
    "\n",
    "1. Build a minimal Android version of the app, and add it to Google Play.\n",
    "2. If the app has a good response from users, we develop it further.\n",
    "3. If the app is profitable after six months, we build an iOS version of the app and add it to the App Store.\n",
    "\n",
    "As the end goal is to add the app on **both Google Play and the App Store**, we need to find **app profiles that are successful in both markets** (for instance, a profile that works well for both markets might be a productivity app that makes use of gamification)."
   ]
  },
  {
   "cell_type": "markdown",
   "metadata": {},
   "source": [
    "## Part 1 \n",
    "We will begin by determining the **most common genres** for each dataset before using a **frequency tables** we build for a few columns in the datasets.\n",
    "\n",
    "We first need to identify the columns to use to generate such frequency tables to determine the most common genres in each market."
   ]
  },
  {
   "cell_type": "code",
   "execution_count": 18,
   "metadata": {},
   "outputs": [
    {
     "name": "stdout",
     "output_type": "stream",
     "text": [
      "Appstore columns:\n",
      "['id', 'track_name', 'size_bytes', 'currency', 'price', 'rating_count_tot', 'rating_count_ver', 'user_rating', 'user_rating_ver', 'ver', 'cont_rating', 'prime_genre', 'sup_devices.num', 'ipadSc_urls.num', 'lang.num', 'vpp_lic']\n",
      "\n",
      "\n",
      "Googleplay columns:\n",
      "['App', 'Category', 'Rating', 'Reviews', 'Size', 'Installs', 'Type', 'Price', 'Content Rating', 'Genres', 'Last Updated', 'Current Ver', 'Android Ver']\n",
      "\n",
      "\n",
      "Googleplay example row:\n",
      "['Photo Editor & Candy Camera & Grid & ScrapBook', 'ART_AND_DESIGN', '4.1', '159', '19M', '10,000+', 'Free', '0', 'Everyone', 'Art & Design', 'January 7, 2018', '1.0.0', '4.0.3 and up']\n",
      "\n",
      "\n",
      "Appstore example row:\n",
      "['284882215', 'Facebook', '389879808', 'USD', '0.0', '2974676', '212', '3.5', '3.5', '95.0', '4+', 'Social Networking', '37', '1', '29', '1']\n"
     ]
    }
   ],
   "source": [
    "# print out the header row in each dataset to inspect which column might be useful to decide the genre \n",
    "print('Appstore columns:')\n",
    "print(apple_file[0])\n",
    "print('\\n')\n",
    "print('Googleplay columns:')\n",
    "print(google_file[0])\n",
    "print('\\n')\n",
    "print('Googleplay example row:')\n",
    "print(Google_free[0])\n",
    "print('\\n')\n",
    "print('Appstore example row:')\n",
    "print(Apple_free[0])"
   ]
  },
  {
   "cell_type": "markdown",
   "metadata": {},
   "source": [
    "The result above shows that `prime_genre` from  Appstore and `Genres` plus `Category` from Googleplay might be useful. \n",
    "\n",
    "For this, We'll build two functions we can use to analyse the frequency tables:\n",
    "* One function to generate frequency tables that show percentages called `freq_table()`.\n",
    "* Another function we can use to display the percentages in a **descending** order using the built-in `sorted()` function."
   ]
  },
  {
   "cell_type": "code",
   "execution_count": 19,
   "metadata": {},
   "outputs": [
    {
     "data": {
      "text/plain": [
       "{'Social Networking': 3.2898820608317814,\n",
       " 'Photo & Video': 4.9658597144630665,\n",
       " 'Games': 58.16263190564867,\n",
       " 'Music': 2.0484171322160147,\n",
       " 'Reference': 0.5586592178770949,\n",
       " 'Health & Fitness': 2.0173805090006205,\n",
       " 'Weather': 0.8690254500310366,\n",
       " 'Utilities': 2.5139664804469275,\n",
       " 'Travel': 1.2414649286157666,\n",
       " 'Shopping': 2.60707635009311,\n",
       " 'News': 1.3345747982619491,\n",
       " 'Navigation': 0.186219739292365,\n",
       " 'Lifestyle': 1.5828677839851024,\n",
       " 'Entertainment': 7.883302296710118,\n",
       " 'Food & Drink': 0.8069522036002483,\n",
       " 'Sports': 2.1415270018621975,\n",
       " 'Book': 0.4345127250155183,\n",
       " 'Finance': 1.1173184357541899,\n",
       " 'Education': 3.662321539416512,\n",
       " 'Productivity': 1.7380509000620732,\n",
       " 'Business': 0.5276225946617008,\n",
       " 'Catalogs': 0.12414649286157665,\n",
       " 'Medical': 0.186219739292365}"
      ]
     },
     "execution_count": 19,
     "metadata": {},
     "output_type": "execute_result"
    }
   ],
   "source": [
    "# The function should return the frequency table (as a dictionary) for any column we want. The frequencies should also be expressed as percentages.\n",
    "\n",
    "def freq_table(dataset, index):\n",
    "    \n",
    "    freq = {}\n",
    "    for row in dataset:\n",
    "        content = row[index]\n",
    "        if content in freq:\n",
    "            freq[content] += 1\n",
    "        else:\n",
    "            freq[content] = 1\n",
    "             \n",
    "    for key in freq:\n",
    "        freq[key] = (freq[key] / len(dataset)) * 100\n",
    "        \n",
    "    return freq\n",
    "\n",
    "# Check if freq_table works properly\n",
    "freq_table(Apple_free, 11)"
   ]
  },
  {
   "cell_type": "markdown",
   "metadata": {},
   "source": [
    "As seen above, `freq_table()` works properly as expected. But before we can use the `sorted()` function to show the frequency in **descending** order, we need to transform the `freq_table` dictionary into a list of tuples, where each tuple contains a dictionary key along with its corresponding dictionary value because `sorted()` function doesn't work too well with dictionaries as it only considers and returns the dictionary keys.\n",
    "\n",
    "To ensure the sorting works right, we should also ensure the dictionary value comes first, and the dictionary key comes second.\n",
    "\n",
    "Here, we use a rather complicated way by coming up with a helper function called `display_table()` which will sort a dictionary. We are aware other simpler ways to do this. As of now, we are stick to this method nonetheless. "
   ]
  },
  {
   "cell_type": "code",
   "execution_count": 20,
   "metadata": {},
   "outputs": [],
   "source": [
    "def display_table(dataset, index):\n",
    "    table = freq_table(dataset, index) # the freq_table generated above to generate a frequency table\n",
    "    table_display = []\n",
    "    \n",
    "    for key in table:\n",
    "        table_tuple = (table[key], key) # transforming the frequency table dictionary as tuple\n",
    "        table_display.append(table_tuple)\n",
    "        \n",
    "    table_sorted = sorted(table_display, reverse=True)\n",
    "    \n",
    "    for a in table_sorted:\n",
    "        print(f'{a[1]}: {a[0]}')"
   ]
  },
  {
   "cell_type": "markdown",
   "metadata": {},
   "source": [
    "## Analyisng `prime_genre` column of the App Store dataset\n",
    "\n",
    "We have generated frequency tables for the columns `prime_genre`, `Genres`, and `Category`. We'll now focus on analysing these frequency tables.\n",
    "\n",
    "1. We will aim to answer the following questions:\n",
    "* For the `prime_genre` column of the App Store dataset:\n",
    "  1. What is the most common genre? What is the next most common? \n",
    "  2. What other patterns do you see?\n",
    "  3. What is the general impression (ie., are most of the apps designed for practical purposes (education, shopping, utilities, productivity, lifestyle) or more for entertainment (games, photo and video, social networking, sports, music)?\n",
    "  4. Can we really recommend an app profile for the App Store market based on this frequency table alone? If there's a large number of apps for a particular genre, does that also imply that apps of that genre generally have a large number of users?"
   ]
  },
  {
   "cell_type": "code",
   "execution_count": 21,
   "metadata": {},
   "outputs": [
    {
     "name": "stdout",
     "output_type": "stream",
     "text": [
      "Games: 58.16263190564867\n",
      "Entertainment: 7.883302296710118\n",
      "Photo & Video: 4.9658597144630665\n",
      "Education: 3.662321539416512\n",
      "Social Networking: 3.2898820608317814\n",
      "Shopping: 2.60707635009311\n",
      "Utilities: 2.5139664804469275\n",
      "Sports: 2.1415270018621975\n",
      "Music: 2.0484171322160147\n",
      "Health & Fitness: 2.0173805090006205\n",
      "Productivity: 1.7380509000620732\n",
      "Lifestyle: 1.5828677839851024\n",
      "News: 1.3345747982619491\n",
      "Travel: 1.2414649286157666\n",
      "Finance: 1.1173184357541899\n",
      "Weather: 0.8690254500310366\n",
      "Food & Drink: 0.8069522036002483\n",
      "Reference: 0.5586592178770949\n",
      "Business: 0.5276225946617008\n",
      "Book: 0.4345127250155183\n",
      "Navigation: 0.186219739292365\n",
      "Medical: 0.186219739292365\n",
      "Catalogs: 0.12414649286157665\n"
     ]
    }
   ],
   "source": [
    "display_table(Apple_free, 11)"
   ]
  },
  {
   "cell_type": "markdown",
   "metadata": {},
   "source": [
    "We can see from the result above that the most common genres for **free apps** designed for **English-speaking audience** from **Appstore** is `Games` followed by `Entertainment`.\n",
    "\n",
    "We can tell from the result above, at least for free apps designed for English-speaking audience from Appstore, most of the apps are **for entertainment** purpose. However, even when the fun apps are the most dominant here, it does not necessarily mean they have the greatest number of users. The idea is **the demand might not be the same as the offer** so the conclusion is it is not ideal for us to recommend an app profile for the App Store market based solely on this frequency table. We need additional information."
   ]
  },
  {
   "cell_type": "markdown",
   "metadata": {},
   "source": [
    "## Analyisng `Category` and `Genres`columns of Googleplay \n",
    "\n",
    "We will generate the frequency tables using the same function above. \n",
    "\n",
    "We will answer the following:\n",
    "* What are the most common genres?\n",
    "* What other patterns do you see?\n",
    "* Compare the patterns you see for the Google Play market with those you saw for the App Store market.\n",
    "* Can you recommend an app profile based on what you found so far? Do the frequency tables you generated reveal the most frequent app genres or what genres have the most users?"
   ]
  },
  {
   "cell_type": "code",
   "execution_count": 22,
   "metadata": {},
   "outputs": [
    {
     "name": "stdout",
     "output_type": "stream",
     "text": [
      "FAMILY: 18.907942238267147\n",
      "GAME: 9.724729241877256\n",
      "TOOLS: 8.461191335740072\n",
      "BUSINESS: 4.591606498194946\n",
      "LIFESTYLE: 3.9034296028880866\n",
      "PRODUCTIVITY: 3.892148014440433\n",
      "FINANCE: 3.7003610108303246\n",
      "MEDICAL: 3.531137184115524\n",
      "SPORTS: 3.395758122743682\n",
      "PERSONALIZATION: 3.3167870036101084\n",
      "COMMUNICATION: 3.2378158844765346\n",
      "HEALTH_AND_FITNESS: 3.0798736462093865\n",
      "PHOTOGRAPHY: 2.944494584837545\n",
      "NEWS_AND_MAGAZINES: 2.7978339350180503\n",
      "SOCIAL: 2.6624548736462095\n",
      "TRAVEL_AND_LOCAL: 2.33528880866426\n",
      "SHOPPING: 2.2450361010830324\n",
      "BOOKS_AND_REFERENCE: 2.1435018050541514\n",
      "DATING: 1.861462093862816\n",
      "VIDEO_PLAYERS: 1.7937725631768955\n",
      "MAPS_AND_NAVIGATION: 1.3989169675090252\n",
      "FOOD_AND_DRINK: 1.2409747292418771\n",
      "EDUCATION: 1.1620036101083033\n",
      "ENTERTAINMENT: 0.9589350180505415\n",
      "LIBRARIES_AND_DEMO: 0.9363718411552346\n",
      "AUTO_AND_VEHICLES: 0.9250902527075812\n",
      "HOUSE_AND_HOME: 0.8235559566787004\n",
      "WEATHER: 0.8009927797833934\n",
      "EVENTS: 0.7107400722021661\n",
      "PARENTING: 0.6543321299638989\n",
      "ART_AND_DESIGN: 0.6430505415162455\n",
      "COMICS: 0.6204873646209386\n",
      "BEAUTY: 0.5979241877256317\n"
     ]
    }
   ],
   "source": [
    "display_table(Google_free, 1) #frequency table based upon 'Category'"
   ]
  },
  {
   "cell_type": "code",
   "execution_count": 23,
   "metadata": {},
   "outputs": [
    {
     "name": "stdout",
     "output_type": "stream",
     "text": [
      "Tools: 8.449909747292418\n",
      "Entertainment: 6.069494584837545\n",
      "Education: 5.347472924187725\n",
      "Business: 4.591606498194946\n",
      "Productivity: 3.892148014440433\n",
      "Lifestyle: 3.892148014440433\n",
      "Finance: 3.7003610108303246\n",
      "Medical: 3.531137184115524\n",
      "Sports: 3.463447653429603\n",
      "Personalization: 3.3167870036101084\n",
      "Communication: 3.2378158844765346\n",
      "Action: 3.1024368231046933\n",
      "Health & Fitness: 3.0798736462093865\n",
      "Photography: 2.944494584837545\n",
      "News & Magazines: 2.7978339350180503\n",
      "Social: 2.6624548736462095\n",
      "Travel & Local: 2.3240072202166067\n",
      "Shopping: 2.2450361010830324\n",
      "Books & Reference: 2.1435018050541514\n",
      "Simulation: 2.0419675090252705\n",
      "Dating: 1.861462093862816\n",
      "Arcade: 1.8501805054151623\n",
      "Video Players & Editors: 1.7712093862815883\n",
      "Casual: 1.7599277978339352\n",
      "Maps & Navigation: 1.3989169675090252\n",
      "Food & Drink: 1.2409747292418771\n",
      "Puzzle: 1.128158844765343\n",
      "Racing: 0.9927797833935018\n",
      "Role Playing: 0.9363718411552346\n",
      "Libraries & Demo: 0.9363718411552346\n",
      "Auto & Vehicles: 0.9250902527075812\n",
      "Strategy: 0.9138086642599278\n",
      "House & Home: 0.8235559566787004\n",
      "Weather: 0.8009927797833934\n",
      "Events: 0.7107400722021661\n",
      "Adventure: 0.6768953068592057\n",
      "Comics: 0.6092057761732852\n",
      "Beauty: 0.5979241877256317\n",
      "Art & Design: 0.5979241877256317\n",
      "Parenting: 0.4963898916967509\n",
      "Card: 0.45126353790613716\n",
      "Casino: 0.42870036101083037\n",
      "Trivia: 0.41741877256317694\n",
      "Educational;Education: 0.39485559566787\n",
      "Board: 0.3835740072202166\n",
      "Educational: 0.3722924187725632\n",
      "Education;Education: 0.33844765342960287\n",
      "Word: 0.2594765342960289\n",
      "Casual;Pretend Play: 0.236913357400722\n",
      "Music: 0.2030685920577617\n",
      "Racing;Action & Adventure: 0.16922382671480143\n",
      "Puzzle;Brain Games: 0.16922382671480143\n",
      "Entertainment;Music & Video: 0.16922382671480143\n",
      "Casual;Brain Games: 0.13537906137184114\n",
      "Casual;Action & Adventure: 0.13537906137184114\n",
      "Arcade;Action & Adventure: 0.12409747292418773\n",
      "Action;Action & Adventure: 0.10153429602888085\n",
      "Educational;Pretend Play: 0.09025270758122744\n",
      "Simulation;Action & Adventure: 0.078971119133574\n",
      "Parenting;Education: 0.078971119133574\n",
      "Entertainment;Brain Games: 0.078971119133574\n",
      "Board;Brain Games: 0.078971119133574\n",
      "Parenting;Music & Video: 0.06768953068592057\n",
      "Educational;Brain Games: 0.06768953068592057\n",
      "Casual;Creativity: 0.06768953068592057\n",
      "Art & Design;Creativity: 0.06768953068592057\n",
      "Education;Pretend Play: 0.056407942238267145\n",
      "Role Playing;Pretend Play: 0.04512635379061372\n",
      "Education;Creativity: 0.04512635379061372\n",
      "Role Playing;Action & Adventure: 0.033844765342960284\n",
      "Puzzle;Action & Adventure: 0.033844765342960284\n",
      "Entertainment;Creativity: 0.033844765342960284\n",
      "Entertainment;Action & Adventure: 0.033844765342960284\n",
      "Educational;Creativity: 0.033844765342960284\n",
      "Educational;Action & Adventure: 0.033844765342960284\n",
      "Education;Music & Video: 0.033844765342960284\n",
      "Education;Brain Games: 0.033844765342960284\n",
      "Education;Action & Adventure: 0.033844765342960284\n",
      "Adventure;Action & Adventure: 0.033844765342960284\n",
      "Video Players & Editors;Music & Video: 0.02256317689530686\n",
      "Sports;Action & Adventure: 0.02256317689530686\n",
      "Simulation;Pretend Play: 0.02256317689530686\n",
      "Puzzle;Creativity: 0.02256317689530686\n",
      "Music;Music & Video: 0.02256317689530686\n",
      "Entertainment;Pretend Play: 0.02256317689530686\n",
      "Casual;Education: 0.02256317689530686\n",
      "Board;Action & Adventure: 0.02256317689530686\n",
      "Video Players & Editors;Creativity: 0.01128158844765343\n",
      "Trivia;Education: 0.01128158844765343\n",
      "Travel & Local;Action & Adventure: 0.01128158844765343\n",
      "Tools;Education: 0.01128158844765343\n",
      "Strategy;Education: 0.01128158844765343\n",
      "Strategy;Creativity: 0.01128158844765343\n",
      "Strategy;Action & Adventure: 0.01128158844765343\n",
      "Simulation;Education: 0.01128158844765343\n",
      "Role Playing;Brain Games: 0.01128158844765343\n",
      "Racing;Pretend Play: 0.01128158844765343\n",
      "Puzzle;Education: 0.01128158844765343\n",
      "Parenting;Brain Games: 0.01128158844765343\n",
      "Music & Audio;Music & Video: 0.01128158844765343\n",
      "Lifestyle;Pretend Play: 0.01128158844765343\n",
      "Lifestyle;Education: 0.01128158844765343\n",
      "Health & Fitness;Education: 0.01128158844765343\n",
      "Health & Fitness;Action & Adventure: 0.01128158844765343\n",
      "Entertainment;Education: 0.01128158844765343\n",
      "Communication;Creativity: 0.01128158844765343\n",
      "Comics;Creativity: 0.01128158844765343\n",
      "Casual;Music & Video: 0.01128158844765343\n",
      "Card;Action & Adventure: 0.01128158844765343\n",
      "Books & Reference;Education: 0.01128158844765343\n",
      "Art & Design;Pretend Play: 0.01128158844765343\n",
      "Art & Design;Action & Adventure: 0.01128158844765343\n",
      "Arcade;Pretend Play: 0.01128158844765343\n",
      "Adventure;Education: 0.01128158844765343\n"
     ]
    }
   ],
   "source": [
    "display_table(Google_free, -4) #frequency table based upon 'Genres'"
   ]
  },
  {
   "cell_type": "markdown",
   "metadata": {},
   "source": [
    "We can tell from the above that the most common genres of free apps for English-speaking audience at Googleplay in constrast to Appstore focus more on practical use like `Tools` and `Family` (however, we do see `GAME` came second as well based upon `Category` column). Based upon the columns disclosing genres so far, we can see **Appstore tends to focus more on **entertainment whilst Googleplay shows a more balanced landscape of both practical and fun apps.**\n",
    "\n",
    "It is not very clear the difference between `Category` and `Genres`. However, we can tell that `Genres` is much more granular. As we are only focusing on the bigger picture, we will be focusing on `Catogery` instead. \n",
    "\n",
    "Similar to the analysis above for Appstore, it may not be appropriate to recommend an app profile solely based upon the frequency table of these columns. **They show perhaps the most frequent app genres, but they do not show what genres have the most users.** To answer that, we need extra information. "
   ]
  },
  {
   "cell_type": "markdown",
   "metadata": {},
   "source": [
    "## Most Popular Apps by Genre on the App Store - Method\n",
    "\n",
    "The frequency tables we analysed on the previous screen showed us that **apps designed for fun dominate the App Store, while Google Play shows a more balanced landscape of both practical and fun apps.** Now, we will determine the type of apps with the most users.\n",
    "\n",
    "One way to find out what genres are the most popular (have the most users) is to calculate the **average number of installs for each app genre.** For the Google Play data set, we can find this information in the `Installs` column, but this information is missing for the App Store data set. As an alternative, we will take the **total number of user ratings** as a proxy, which we can find in the `rating_count_tot` column.\n",
    "\n",
    "We will start with calculating the **average number of user ratings per app genre** on the App Store. To do that, we will need the following:\n",
    "\n",
    "* Isolate the apps of each genre\n",
    "* Add up the user ratings count for the apps of that genre\n",
    "* Divide the sum by the number of apps belonging to that genre (not by the total number of apps)\n",
    "\n",
    "We will use a **nested loop** to achieve the above. "
   ]
  },
  {
   "cell_type": "code",
   "execution_count": 24,
   "metadata": {},
   "outputs": [
    {
     "name": "stdout",
     "output_type": "stream",
     "text": [
      "Social Networking\n",
      "71548.34905660378\n",
      "Photo & Video\n",
      "28441.54375\n",
      "Games\n",
      "22788.6696905016\n",
      "Music\n",
      "57326.530303030304\n",
      "Reference\n",
      "74942.11111111111\n",
      "Health & Fitness\n",
      "23298.015384615384\n",
      "Weather\n",
      "52279.892857142855\n",
      "Utilities\n",
      "18684.456790123455\n",
      "Travel\n",
      "28243.8\n",
      "Shopping\n",
      "26919.690476190477\n",
      "News\n",
      "21248.023255813954\n",
      "Navigation\n",
      "86090.33333333333\n",
      "Lifestyle\n",
      "16485.764705882353\n",
      "Entertainment\n",
      "14029.830708661417\n",
      "Food & Drink\n",
      "33333.92307692308\n",
      "Sports\n",
      "23008.898550724636\n",
      "Book\n",
      "39758.5\n",
      "Finance\n",
      "31467.944444444445\n",
      "Education\n",
      "7003.983050847458\n",
      "Productivity\n",
      "21028.410714285714\n",
      "Business\n",
      "7491.117647058823\n",
      "Catalogs\n",
      "4004.0\n",
      "Medical\n",
      "612.0\n"
     ]
    }
   ],
   "source": [
    "# Generating a frequency table for the prime_genre column to get the unique app genres using freq_table function above.\n",
    "\n",
    "unique_genre_apple = freq_table(Apple_free, 11) # fre_table returns a dictionary \n",
    "\n",
    "# Loop over the unique genres of the App Store dataset. \n",
    "\n",
    "for genre in unique_genre_apple:\n",
    "    total = 0 # will store the sum of user ratings counts \n",
    "    len_genre = 0 # stores the number of apps specific to each genre\n",
    "    for app in Apple_free: #the nested loop will finish its loop before continuing the remaining iteration of the mother loop above\n",
    "        genre_app = app[11]\n",
    "        if genre_app == genre:\n",
    "            total += float(app[5]) # app[5] shows the total number of ratings received per genre (counts not actual rating value)\n",
    "            len_genre += 1 # len_genre stores the number of apps specific to each genre\n",
    "    ave_count_per_genre = total / len_genre # from here, it has to be outside the inner loop to show the result of 'total' apps rather than each app\n",
    "    print(genre)\n",
    "    print(ave_count_per_genre)\n",
    "    "
   ]
  },
  {
   "cell_type": "markdown",
   "metadata": {},
   "source": [
    "We note from the result that `Navigation`, `Social Networking`, `Reference` seemd to top the result. We will take a closer look on these specific genres."
   ]
  },
  {
   "cell_type": "code",
   "execution_count": 27,
   "metadata": {},
   "outputs": [
    {
     "name": "stdout",
     "output_type": "stream",
     "text": [
      "Waze - GPS Navigation, Maps & Real-time Traffic: 345046\n",
      "Google Maps - Navigation & Transit: 154911\n",
      "Geocaching®: 12811\n",
      "CoPilot GPS – Car Navigation & Offline Maps: 3582\n",
      "ImmobilienScout24: Real Estate Search in Germany: 187\n",
      "Railway Route Search: 5\n"
     ]
    }
   ],
   "source": [
    "for app in Apple_free:\n",
    "    if app[-5] == 'Navigation':\n",
    "        print(f'{app[1]}: {app[5]}')"
   ]
  },
  {
   "cell_type": "markdown",
   "metadata": {},
   "source": [
    "We can see from the result, there are a few **outliers** in the `Navigation` genre that made this genre specifically higher in the number of reviews received (we see 345046 for *Waze - GPS Navigation, Maps & Real-time Traffic* and 154911 for *Google Maps*). Outside these two, we can see that only *Geocaching®* received reviews more than 10,000 and the rest received less than 5000 in total. **This implies `Navigation` genre may not be as popular as it actually is.** It is the two outliers that skewed the result. \n",
    "\n",
    "Next we look at `Social Networking`."
   ]
  },
  {
   "cell_type": "code",
   "execution_count": 28,
   "metadata": {},
   "outputs": [
    {
     "name": "stdout",
     "output_type": "stream",
     "text": [
      "Facebook: 2974676\n",
      "Pinterest: 1061624\n",
      "Skype for iPhone: 373519\n",
      "Messenger: 351466\n",
      "Tumblr: 334293\n",
      "WhatsApp Messenger: 287589\n",
      "Kik: 260965\n",
      "ooVoo – Free Video Call, Text and Voice: 177501\n",
      "TextNow - Unlimited Text + Calls: 164963\n",
      "Viber Messenger – Text & Call: 164249\n",
      "Followers - Social Analytics For Instagram: 112778\n",
      "MeetMe - Chat and Meet New People: 97072\n",
      "We Heart It - Fashion, wallpapers, quotes, tattoos: 90414\n",
      "InsTrack for Instagram - Analytics Plus More: 85535\n",
      "Tango - Free Video Call, Voice and Chat: 75412\n",
      "LinkedIn: 71856\n",
      "Match™ - #1 Dating App.: 60659\n",
      "Skype for iPad: 60163\n",
      "POF - Best Dating App for Conversations: 52642\n",
      "Timehop: 49510\n",
      "Find My Family, Friends & iPhone - Life360 Locator: 43877\n",
      "Whisper - Share, Express, Meet: 39819\n",
      "Hangouts: 36404\n",
      "LINE PLAY - Your Avatar World: 34677\n",
      "WeChat: 34584\n",
      "Badoo - Meet New People, Chat, Socialize.: 34428\n",
      "Followers + for Instagram - Follower Analytics: 28633\n",
      "GroupMe: 28260\n",
      "Marco Polo Video Walkie Talkie: 27662\n",
      "Miitomo: 23965\n",
      "SimSimi: 23530\n",
      "Grindr - Gay and same sex guys chat, meet and date: 23201\n",
      "Wishbone - Compare Anything: 20649\n",
      "imo video calls and chat: 18841\n",
      "After School - Funny Anonymous School News: 18482\n",
      "Quick Reposter - Repost, Regram and Reshare Photos: 17694\n",
      "Weibo HD: 16772\n",
      "Repost for Instagram: 15185\n",
      "Live.me – Live Video Chat & Make Friends Nearby: 14724\n",
      "Nextdoor: 14402\n",
      "Followers Analytics for Instagram - InstaReport: 13914\n",
      "YouNow: Live Stream Video Chat: 12079\n",
      "FollowMeter for Instagram - Followers Tracking: 11976\n",
      "LINE: 11437\n",
      "eHarmony™ Dating App - Meet Singles: 11124\n",
      "Discord - Chat for Gamers: 9152\n",
      "QQ: 9109\n",
      "Telegram Messenger: 7573\n",
      "Weibo: 7265\n",
      "Periscope - Live Video Streaming Around the World: 6062\n",
      "Chat for Whatsapp - iPad Version: 5060\n",
      "QQ HD: 5058\n",
      "Followers Analysis Tool For Instagram App Free: 4253\n",
      "live.ly - live video streaming: 4145\n",
      "Houseparty - Group Video Chat: 3991\n",
      "SOMA Messenger: 3232\n",
      "Monkey: 3060\n",
      "Down To Lunch: 2535\n",
      "Flinch - Video Chat Staring Contest: 2134\n",
      "Highrise - Your Avatar Community: 2011\n",
      "LOVOO - Dating Chat: 1985\n",
      "PlayStation®Messages: 1918\n",
      "BOO! - Video chat camera with filters & stickers: 1805\n",
      "Qzone: 1649\n",
      "Chatous - Chat with new people: 1609\n",
      "Kiwi - Q&A: 1538\n",
      "GhostCodes - a discovery app for Snapchat: 1313\n",
      "Jodel: 1193\n",
      "FireChat: 1037\n",
      "Google Duo - simple video calling: 1033\n",
      "Fiesta by Tango - Chat & Meet New People: 885\n",
      "Google Allo — smart messaging: 862\n",
      "Peach — share vividly: 727\n",
      "Hey! VINA - Where Women Meet New Friends: 719\n",
      "Battlefield™ Companion: 689\n",
      "All Devices for WhatsApp - Messenger for iPad: 682\n",
      "Chat for Pokemon Go - GoChat: 500\n",
      "IAmNaughty – Dating App to Meet New People Online: 463\n",
      "Qzone HD: 458\n",
      "Zenly - Locate your friends in realtime: 427\n",
      "League of Legends Friends: 420\n",
      "豆瓣: 407\n",
      "Candid - Speak Your Mind Freely: 398\n",
      "知乎: 397\n",
      "Selfeo: 366\n",
      "Fake-A-Location Free ™: 354\n",
      "Popcorn Buzz - Free Group Calls: 281\n",
      "Fam — Group video calling for iMessage: 279\n",
      "QQ International: 274\n",
      "Ameba: 269\n",
      "SoundCloud Pulse: for creators: 240\n",
      "Tantan: 235\n",
      "Cougar Dating & Life Style App for Mature Women: 213\n",
      "Rawr Messenger - Dab your chat: 180\n",
      "WhenToPost: Best Time to Post Photos for Instagram: 158\n",
      "Inke—Broadcast an amazing life: 147\n",
      "Mustknow - anonymous video Q&A: 53\n",
      "CTFxCmoji: 39\n",
      "Lobi: 36\n",
      "Chain: Collaborate On MyVideo Story/Group Video: 35\n",
      "botman - Real time video chat: 7\n",
      "BestieBox: 0\n",
      "MATCH ON LINE chat: 0\n",
      "niconico ch: 0\n",
      "LINE BLOG: 0\n",
      "bit-tube - Live Stream Video Chat: 0\n"
     ]
    }
   ],
   "source": [
    "for app in Apple_free:\n",
    "    if app[-5] == 'Social Networking':\n",
    "        print(f'{app[1]}: {app[5]}')"
   ]
  },
  {
   "cell_type": "markdown",
   "metadata": {},
   "source": [
    "The result is very similar to the that of `Navigation`. We see a few outliers skewed the result, implying `Social Networking` may not be as popular as it actually is. \n",
    "\n",
    "Lastly, we will look at `Reference`."
   ]
  },
  {
   "cell_type": "code",
   "execution_count": 29,
   "metadata": {},
   "outputs": [
    {
     "name": "stdout",
     "output_type": "stream",
     "text": [
      "Bible: 985920\n",
      "Dictionary.com Dictionary & Thesaurus: 200047\n",
      "Dictionary.com Dictionary & Thesaurus for iPad: 54175\n",
      "Google Translate: 26786\n",
      "Muslim Pro: Ramadan 2017 Prayer Times, Azan, Quran: 18418\n",
      "New Furniture Mods - Pocket Wiki & Game Tools for Minecraft PC Edition: 17588\n",
      "Merriam-Webster Dictionary: 16849\n",
      "Night Sky: 12122\n",
      "City Maps for Minecraft PE - The Best Maps for Minecraft Pocket Edition (MCPE): 8535\n",
      "LUCKY BLOCK MOD ™ for Minecraft PC Edition - The Best Pocket Wiki & Mods Installer Tools: 4693\n",
      "GUNS MODS for Minecraft PC Edition - Mods Tools: 1497\n",
      "Guides for Pokémon GO - Pokemon GO News and Cheats: 826\n",
      "WWDC: 762\n",
      "Horror Maps for Minecraft PE - Download The Scariest Maps for Minecraft Pocket Edition (MCPE) Free: 718\n",
      "VPN Express: 14\n",
      "Real Bike Traffic Rider Virtual Reality Glasses: 8\n",
      "教えて!goo: 0\n",
      "Jishokun-Japanese English Dictionary & Translator: 0\n"
     ]
    }
   ],
   "source": [
    "for app in Apple_free:\n",
    "    if app[-5] == 'Reference':\n",
    "        print(f'{app[1]}: {app[5]}')"
   ]
  },
  {
   "cell_type": "markdown",
   "metadata": {},
   "source": [
    "Although we note a few outliers skewing the result, just like the other two genres. **This genre shows more potential if we can take another popular book and turn it into something that add-on features (like an audio version of the book, embedding the book with a dictionary so the readers do not need to exit the app).** This idea seems to fit well with the fact that the App Store is dominated by for-fun apps. This suggests the market might be a bit saturated with for-fun apps, which means a practical app might have more of a chance to stand out among the huge number of apps on the App Store.\n",
    "\n",
    "Other genres that seem popular include weather, book, food and drink, or finance. The book genre seem to overlap a bit with the app idea we described above, but the other genres don't seem too interesting to us:\n",
    "\n",
    "* Weather apps — people generally don't spend too much time in-app, and the chances of making profit from in-app adds are low. Also, getting reliable live weather data may require us to connect our apps to non-free APIs.\n",
    "\n",
    "* Food and drink — examples here include Starbucks, Dunkin' Donuts, McDonald's, etc. So making a popular food and drink app requires actual cooking and a delivery service, which is outside the scope of our company.\n",
    "\n",
    "* Finance apps — these apps involve banking, paying bills, money transfer, etc. Building a finance app requires domain knowledge, and we don't want to hire a finance expert just to build an app.\n",
    "\n",
    "We will now move on to analyse the Googleplay dataset for the most popular genre. "
   ]
  },
  {
   "attachments": {
    "image-2.png": {
     "image/png": "[encoded data removed]"
    }
   },
   "cell_type": "markdown",
   "metadata": {},
   "source": [
    "## Most Popular Apps by Genre on Google Play - Method \n",
    "\n",
    "We have come up with app profile recommendations for the App Store based on the number of user ratings. However for Googleplay, we actually have data about the exact number of installs per app which should provide a clearer picture about genre popularity. The only downside is, the install numbers do not seem precise enough, as we can see that most values are open-ended (100+, 1,000+, 5,000+, etc.):\n",
    "\n",
    "![image-2.png](attachment:image-2.png)\n",
    "\n",
    "It remains unclear whether an app with 100,000+ installs has 100,000 installs, 200,000, or 350,000. However, as we do not need very precise data for our purposes (we only want to find out which app genres attract the most users), this should not create a big problem.\n",
    "\n",
    "As a result, we will be leaving the numbers as they are, which means that we will consider that an app with 100,000+ installs has 100,000 installs, and an app with 1,000,000+ installs has 1,000,000 installs, and so on. \n",
    "\n",
    "To perform computations, however, **we will need to convert each install number from a string to a float. This means we need to remove the commas and the plus characters, or the conversion will fail and cause an error.**\n",
    "\n",
    "To remove characters from strings, we will be using the `str.replace(old, new)` method. We will replace the non-numerical characters with the empty string `''`:"
   ]
  },
  {
   "cell_type": "code",
   "execution_count": 25,
   "metadata": {},
   "outputs": [
    {
     "name": "stdout",
     "output_type": "stream",
     "text": [
      "ART_AND_DESIGN\n",
      "1986335.0877192982\n",
      "AUTO_AND_VEHICLES\n",
      "647317.8170731707\n",
      "BEAUTY\n",
      "513151.88679245283\n",
      "BOOKS_AND_REFERENCE\n",
      "8767811.894736841\n",
      "BUSINESS\n",
      "1712290.1474201474\n",
      "COMICS\n",
      "817657.2727272727\n",
      "COMMUNICATION\n",
      "38456119.167247385\n",
      "DATING\n",
      "854028.8303030303\n",
      "EDUCATION\n",
      "1833495.145631068\n",
      "ENTERTAINMENT\n",
      "11640705.88235294\n",
      "EVENTS\n",
      "253542.22222222222\n",
      "FINANCE\n",
      "1387692.475609756\n",
      "FOOD_AND_DRINK\n",
      "1924897.7363636363\n",
      "HEALTH_AND_FITNESS\n",
      "4188821.9853479853\n",
      "HOUSE_AND_HOME\n",
      "1331540.5616438356\n",
      "LIBRARIES_AND_DEMO\n",
      "638503.734939759\n",
      "LIFESTYLE\n",
      "1437816.2687861272\n",
      "GAME\n",
      "15588015.603248259\n",
      "FAMILY\n",
      "3695641.8198090694\n",
      "MEDICAL\n",
      "120550.61980830671\n",
      "SOCIAL\n",
      "23253652.127118643\n",
      "SHOPPING\n",
      "7036877.311557789\n",
      "PHOTOGRAPHY\n",
      "17840110.40229885\n",
      "SPORTS\n",
      "3638640.1428571427\n",
      "TRAVEL_AND_LOCAL\n",
      "13984077.710144928\n",
      "TOOLS\n",
      "10801391.298666667\n",
      "PERSONALIZATION\n",
      "5201482.6122448975\n",
      "PRODUCTIVITY\n",
      "16787331.344927534\n",
      "PARENTING\n",
      "542603.6206896552\n",
      "WEATHER\n",
      "5074486.197183099\n",
      "VIDEO_PLAYERS\n",
      "24727872.452830188\n",
      "NEWS_AND_MAGAZINES\n",
      "9549178.467741935\n",
      "MAPS_AND_NAVIGATION\n",
      "4056941.7741935486\n"
     ]
    }
   ],
   "source": [
    "# Start by generating a frequency table for the Category column of the Google Play dataset to get the unique app genres\n",
    "\n",
    "unique_genre_google = freq_table(Google_free, 1) #We use Category rather than Genre as Category is more generic. \n",
    "\n",
    "# Loop over the unique genres of the Google Play dataset. \n",
    "\n",
    "for category in unique_genre_google:\n",
    "    total = 0 # stores the sum of installs specific to each genre\n",
    "    len_category = 0 # stores the number of apps specific to each genre\n",
    "    for app in Google_free:\n",
    "        category_app = app[1] # app[1] stores app genre\n",
    "        if category_app == category:\n",
    "            installs = app[5] #app[5] stores the number of installs per app\n",
    "            installs = installs.replace('+', '') # Remove any + or , character, and then convert the string to a float.\n",
    "            installs = installs.replace(',', '')\n",
    "            total += float(installs) # Add up the number of installs to the total variable.\n",
    "            len_category += 1 # Increment the len_category variable by 1.\n",
    "    ave_count_per_category = total / len_category # from here, it has to be outside the inner loop to show the result of 'total' apps rather than each app\n",
    "    print(category)\n",
    "    print(ave_count_per_category)\n",
    "    "
   ]
  },
  {
   "cell_type": "code",
   "execution_count": 26,
   "metadata": {},
   "outputs": [
    {
     "name": "stdout",
     "output_type": "stream",
     "text": [
      "WhatsApp Messenger: 1,000,000,000+\n",
      "imo beta free calls and text: 100,000,000+\n",
      "Android Messages: 100,000,000+\n",
      "Google Duo - High Quality Video Calls: 500,000,000+\n",
      "Messenger – Text and Video Chat for Free: 1,000,000,000+\n",
      "imo free video calls and chat: 500,000,000+\n",
      "Skype - free IM & video calls: 1,000,000,000+\n",
      "Who: 100,000,000+\n",
      "GO SMS Pro - Messenger, Free Themes, Emoji: 100,000,000+\n",
      "LINE: Free Calls & Messages: 500,000,000+\n",
      "Google Chrome: Fast & Secure: 1,000,000,000+\n",
      "Firefox Browser fast & private: 100,000,000+\n",
      "UC Browser - Fast Download Private & Secure: 500,000,000+\n",
      "Gmail: 1,000,000,000+\n",
      "Hangouts: 1,000,000,000+\n",
      "Messenger Lite: Free Calls & Messages: 100,000,000+\n",
      "Kik: 100,000,000+\n",
      "KakaoTalk: Free Calls & Text: 100,000,000+\n",
      "Opera Mini - fast web browser: 100,000,000+\n",
      "Opera Browser: Fast and Secure: 100,000,000+\n",
      "Telegram: 100,000,000+\n",
      "Truecaller: Caller ID, SMS spam blocking & Dialer: 100,000,000+\n",
      "UC Browser Mini -Tiny Fast Private & Secure: 100,000,000+\n",
      "Viber Messenger: 500,000,000+\n",
      "WeChat: 100,000,000+\n",
      "Yahoo Mail – Stay Organized: 100,000,000+\n",
      "BBM - Free Calls & Messages: 100,000,000+\n"
     ]
    }
   ],
   "source": [
    "for app in Google_free:\n",
    "    if app[1] == 'COMMUNICATION' and (app[5] == '1,000,000,000+' or app[5] == '500,000,000+' \n",
    "                                  or app[5] == '100,000,000+'):\n",
    "        print(f'{app[0]}: {app[5]}') "
   ]
  },
  {
   "cell_type": "markdown",
   "metadata": {},
   "source": [
    "Similar to the result we have seen in Appstore, `COMMUNICATION` is heavily skewed by some social media giants, implying it is not as popular as a genre as we think.\n",
    "\n",
    "We see the same pattern for the video players category, which is the runner-up with 24,727,872 installs. The market is dominated by apps like Youtube, Google Play Movies & TV, or MX Player. The pattern is repeated for social apps (where we have giants like Facebook, Instagram, Google+, etc.), photography apps (Google Photos and other popular photo editors), or productivity apps (Microsoft Word, Dropbox, Google Calendar, Evernote, etc.).\n",
    "\n",
    "Again, the main concern is that these app genres might seem more popular than they really are. Moreover, these niches seem to be dominated by a few giants who are hard to compete against.\n",
    "\n",
    "The game genre seems pretty popular, but previously we found out this part of the market seems a bit saturated, so we'd like to come up with a different app recommendation if possible.\n",
    "\n",
    "The **books and reference** genre looks fairly popular as well, with an average number of installs of 8,767,811. It's interesting to explore this in more depth, **since we found this genre has some potential to work well on the App Store**, and our aim is to recommend an app genre that shows potential for being profitable on both the App Store and Google Play.\n",
    "\n",
    "Let's take a look at some of the apps from this genre and their number of installs and exclude those 'outliers' with significant numbers of installs that may skew the result. "
   ]
  },
  {
   "cell_type": "code",
   "execution_count": 31,
   "metadata": {},
   "outputs": [
    {
     "name": "stdout",
     "output_type": "stream",
     "text": [
      "Wikipedia: 10,000,000+\n",
      "Cool Reader: 10,000,000+\n",
      "Book store: 1,000,000+\n",
      "FBReader: Favorite Book Reader: 10,000,000+\n",
      "Free Books - Spirit Fanfiction and Stories: 1,000,000+\n",
      "AlReader -any text book reader: 5,000,000+\n",
      "FamilySearch Tree: 1,000,000+\n",
      "Cloud of Books: 1,000,000+\n",
      "ReadEra – free ebook reader: 1,000,000+\n",
      "Ebook Reader: 5,000,000+\n",
      "Read books online: 5,000,000+\n",
      "eBoox: book reader fb2 epub zip: 1,000,000+\n",
      "All Maths Formulas: 1,000,000+\n",
      "Ancestry: 5,000,000+\n",
      "HTC Help: 10,000,000+\n",
      "Moon+ Reader: 10,000,000+\n",
      "English-Myanmar Dictionary: 1,000,000+\n",
      "Golden Dictionary (EN-AR): 1,000,000+\n",
      "All Language Translator Free: 1,000,000+\n",
      "Aldiko Book Reader: 10,000,000+\n",
      "Dictionary - WordWeb: 5,000,000+\n",
      "50000 Free eBooks & Free AudioBooks: 5,000,000+\n",
      "Al-Quran (Free): 10,000,000+\n",
      "Al Quran Indonesia: 10,000,000+\n",
      "Al'Quran Bahasa Indonesia: 10,000,000+\n",
      "Al Quran Al karim: 1,000,000+\n",
      "Al Quran : EAlim - Translations & MP3 Offline: 5,000,000+\n",
      "Koran Read &MP3 30 Juz Offline: 1,000,000+\n",
      "Hafizi Quran 15 lines per page: 1,000,000+\n",
      "Quran for Android: 10,000,000+\n",
      "Satellite AR: 1,000,000+\n",
      "Oxford A-Z of English Usage: 1,000,000+\n",
      "Dictionary.com: Find Definitions for English Words: 10,000,000+\n",
      "English Dictionary - Offline: 10,000,000+\n",
      "Bible KJV: 5,000,000+\n",
      "NOOK: Read eBooks & Magazines: 10,000,000+\n",
      "Brilliant Quotes: Life, Love, Family & Motivation: 1,000,000+\n",
      "Stats Royale for Clash Royale: 1,000,000+\n",
      "Dictionary: 10,000,000+\n",
      "wikiHow: how to do anything: 1,000,000+\n",
      "EGW Writings: 1,000,000+\n",
      "My Little Pony AR Guide: 1,000,000+\n",
      "Spanish English Translator: 10,000,000+\n",
      "Dictionary - Merriam-Webster: 10,000,000+\n",
      "JW Library: 10,000,000+\n",
      "Oxford Dictionary of English : Free: 10,000,000+\n",
      "English Hindi Dictionary: 10,000,000+\n",
      "English to Hindi Dictionary: 5,000,000+\n"
     ]
    }
   ],
   "source": [
    "for app in Google_free:\n",
    "    if app[1] == 'BOOKS_AND_REFERENCE' and (app[5] == '1,000,000+'\n",
    "                                            or app[5] == '5,000,000+'\n",
    "                                            or app[5] == '10,000,000+'\n",
    "                                            or app[5] == '50,000,000+'):\n",
    "        print(f'{app[0]}: {app[5]}') "
   ]
  },
  {
   "cell_type": "markdown",
   "metadata": {},
   "source": [
    "This niche seems to be dominated by software for processing and reading ebooks, as well as various collections of libraries and dictionaries, so it is probably not a good idea to build similar apps since there'll be some significant competition.\n",
    "\n",
    "We also notice there are quite a few apps built around the **book Quran**, which suggests that building an app around a popular book can be profitable. **It seems that taking a popular book (perhaps a more recent book) and turning it into an app could be profitable for both the Google Play and the App Store markets.**\n",
    "\n",
    "However, **it looks like the market is already full of libraries, so we need to add some special features besides the raw version of the book.** This might include daily quotes from the book, an audio version of the book, quizzes on the book, a forum where people can discuss the book, etc."
   ]
  },
  {
   "cell_type": "markdown",
   "metadata": {},
   "source": [
    "# Conclusions\n",
    "\n",
    "In this project, we analysed data about the App Store and Google Play mobile apps with the goal of recommending an app profile that can be profitable for both markets.\n",
    "\n",
    "**We concluded that taking a popular book (perhaps a more recent book) and turning it into an app could be profitable for both the Google Play and the App Store markets. The markets are already full of libraries, so we need to add some special features besides the raw version of the book.** This might include daily quotes from the book, an audio version of the book, quizzes on the book, a forum where people can discuss the book, etc."
   ]
  }
 ],
 "metadata": {
  "kernelspec": {
   "display_name": "Python 3",
   "language": "python",
   "name": "python3"
  },
  "language_info": {
   "codemirror_mode": {
    "name": "ipython",
    "version": 3
   },
   "file_extension": ".py",
   "mimetype": "text/x-python",
   "name": "python",
   "nbconvert_exporter": "python",
   "pygments_lexer": "ipython3",
   "version": "3.8.2"
  }
 },
 "nbformat": 4,
 "nbformat_minor": 2
}
